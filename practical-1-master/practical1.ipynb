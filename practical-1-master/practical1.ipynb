{
 "cells": [
  {
   "cell_type": "markdown",
   "metadata": {},
   "source": [
    "## Practical 1: word2vec\n",
    "<p>Oxford CS - Deep NLP 2017<br>\n",
    "https://www.cs.ox.ac.uk/teaching/courses/2016-2017/dl/</p>\n",
    "<p>[Yannis Assael, Brendan Shillingford, Chris Dyer]</p>"
   ]
  },
  {
   "cell_type": "markdown",
   "metadata": {},
   "source": [
    "This practical is presented as an IPython Notebook, with the code written for recent versions of **Python 3**. The code in this practical will not work with Python 2 unless you modify it. If you are using your own Python installation, ensure you have a setup identical to that described in the installation shell script (which is intended for use with the department lab machines). We will be unable to support installation on personal machines due to time constraints, so please use the lab machines and the setup script if you are unfamiliar with how to install Anaconda.\n",
    "\n",
    "To execute a notebook cell, press `shift-enter`. The return value of the last command will be displayed, if it is not `None`.\n",
    "\n",
    "Potentially useful library documentation, references, and resources:\n",
    "\n",
    "* IPython notebooks: <https://ipython.org/ipython-doc/3/notebook/notebook.html#introduction>\n",
    "* Numpy numerical array library: <https://docs.scipy.org/doc/>\n",
    "* Gensim's word2vec: <https://radimrehurek.com/gensim/models/word2vec.html>\n",
    "* Bokeh interactive plots: <http://bokeh.pydata.org/en/latest/> (we provide plotting code here, but click the thumbnails for more examples to copy-paste)\n",
    "* scikit-learn ML library (aka `sklearn`): <http://scikit-learn.org/stable/documentation.html>\n",
    "* nltk NLP toolkit: <http://www.nltk.org/>\n",
    "* tutorial for processing xml in python using `lxml`: <http://lxml.de/tutorial.html> (we did this for you below, but in case you need it in the future)"
   ]
  },
  {
   "cell_type": "code",
   "execution_count": 1,
   "metadata": {},
   "outputs": [],
   "source": [
    "import numpy as np\n",
    "import os\n",
    "from random import shuffle\n",
    "import re"
   ]
  },
  {
   "cell_type": "code",
   "execution_count": 2,
   "metadata": {},
   "outputs": [
    {
     "data": {
      "text/html": [
       "\n",
       "    <div class=\"bk-root\">\n",
       "        <a href=\"https://bokeh.pydata.org\" target=\"_blank\" class=\"bk-logo bk-logo-small bk-logo-notebook\"></a>\n",
       "        <span id=\"ede5e830-9077-4804-9f8c-e694cc7057ab\">Loading BokehJS ...</span>\n",
       "    </div>"
      ]
     },
     "metadata": {},
     "output_type": "display_data"
    },
    {
     "data": {
      "application/javascript": [
       "\n",
       "(function(root) {\n",
       "  function now() {\n",
       "    return new Date();\n",
       "  }\n",
       "\n",
       "  var force = true;\n",
       "\n",
       "  if (typeof (root._bokeh_onload_callbacks) === \"undefined\" || force === true) {\n",
       "    root._bokeh_onload_callbacks = [];\n",
       "    root._bokeh_is_loading = undefined;\n",
       "  }\n",
       "\n",
       "  var JS_MIME_TYPE = 'application/javascript';\n",
       "  var HTML_MIME_TYPE = 'text/html';\n",
       "  var EXEC_MIME_TYPE = 'application/vnd.bokehjs_exec.v0+json';\n",
       "  var CLASS_NAME = 'output_bokeh rendered_html';\n",
       "\n",
       "  /**\n",
       "   * Render data to the DOM node\n",
       "   */\n",
       "  function render(props, node) {\n",
       "    var script = document.createElement(\"script\");\n",
       "    node.appendChild(script);\n",
       "  }\n",
       "\n",
       "  /**\n",
       "   * Handle when an output is cleared or removed\n",
       "   */\n",
       "  function handleClearOutput(event, handle) {\n",
       "    var cell = handle.cell;\n",
       "\n",
       "    var id = cell.output_area._bokeh_element_id;\n",
       "    var server_id = cell.output_area._bokeh_server_id;\n",
       "    // Clean up Bokeh references\n",
       "    if (id != null && id in Bokeh.index) {\n",
       "      Bokeh.index[id].model.document.clear();\n",
       "      delete Bokeh.index[id];\n",
       "    }\n",
       "\n",
       "    if (server_id !== undefined) {\n",
       "      // Clean up Bokeh references\n",
       "      var cmd = \"from bokeh.io.state import curstate; print(curstate().uuid_to_server['\" + server_id + \"'].get_sessions()[0].document.roots[0]._id)\";\n",
       "      cell.notebook.kernel.execute(cmd, {\n",
       "        iopub: {\n",
       "          output: function(msg) {\n",
       "            var id = msg.content.text.trim();\n",
       "            if (id in Bokeh.index) {\n",
       "              Bokeh.index[id].model.document.clear();\n",
       "              delete Bokeh.index[id];\n",
       "            }\n",
       "          }\n",
       "        }\n",
       "      });\n",
       "      // Destroy server and session\n",
       "      var cmd = \"import bokeh.io.notebook as ion; ion.destroy_server('\" + server_id + \"')\";\n",
       "      cell.notebook.kernel.execute(cmd);\n",
       "    }\n",
       "  }\n",
       "\n",
       "  /**\n",
       "   * Handle when a new output is added\n",
       "   */\n",
       "  function handleAddOutput(event, handle) {\n",
       "    var output_area = handle.output_area;\n",
       "    var output = handle.output;\n",
       "\n",
       "    // limit handleAddOutput to display_data with EXEC_MIME_TYPE content only\n",
       "    if ((output.output_type != \"display_data\") || (!output.data.hasOwnProperty(EXEC_MIME_TYPE))) {\n",
       "      return\n",
       "    }\n",
       "\n",
       "    var toinsert = output_area.element.find(\".\" + CLASS_NAME.split(' ')[0]);\n",
       "\n",
       "    if (output.metadata[EXEC_MIME_TYPE][\"id\"] !== undefined) {\n",
       "      toinsert[toinsert.length - 1].firstChild.textContent = output.data[JS_MIME_TYPE];\n",
       "      // store reference to embed id on output_area\n",
       "      output_area._bokeh_element_id = output.metadata[EXEC_MIME_TYPE][\"id\"];\n",
       "    }\n",
       "    if (output.metadata[EXEC_MIME_TYPE][\"server_id\"] !== undefined) {\n",
       "      var bk_div = document.createElement(\"div\");\n",
       "      bk_div.innerHTML = output.data[HTML_MIME_TYPE];\n",
       "      var script_attrs = bk_div.children[0].attributes;\n",
       "      for (var i = 0; i < script_attrs.length; i++) {\n",
       "        toinsert[toinsert.length - 1].firstChild.setAttribute(script_attrs[i].name, script_attrs[i].value);\n",
       "      }\n",
       "      // store reference to server id on output_area\n",
       "      output_area._bokeh_server_id = output.metadata[EXEC_MIME_TYPE][\"server_id\"];\n",
       "    }\n",
       "  }\n",
       "\n",
       "  function register_renderer(events, OutputArea) {\n",
       "\n",
       "    function append_mime(data, metadata, element) {\n",
       "      // create a DOM node to render to\n",
       "      var toinsert = this.create_output_subarea(\n",
       "        metadata,\n",
       "        CLASS_NAME,\n",
       "        EXEC_MIME_TYPE\n",
       "      );\n",
       "      this.keyboard_manager.register_events(toinsert);\n",
       "      // Render to node\n",
       "      var props = {data: data, metadata: metadata[EXEC_MIME_TYPE]};\n",
       "      render(props, toinsert[toinsert.length - 1]);\n",
       "      element.append(toinsert);\n",
       "      return toinsert\n",
       "    }\n",
       "\n",
       "    /* Handle when an output is cleared or removed */\n",
       "    events.on('clear_output.CodeCell', handleClearOutput);\n",
       "    events.on('delete.Cell', handleClearOutput);\n",
       "\n",
       "    /* Handle when a new output is added */\n",
       "    events.on('output_added.OutputArea', handleAddOutput);\n",
       "\n",
       "    /**\n",
       "     * Register the mime type and append_mime function with output_area\n",
       "     */\n",
       "    OutputArea.prototype.register_mime_type(EXEC_MIME_TYPE, append_mime, {\n",
       "      /* Is output safe? */\n",
       "      safe: true,\n",
       "      /* Index of renderer in `output_area.display_order` */\n",
       "      index: 0\n",
       "    });\n",
       "  }\n",
       "\n",
       "  // register the mime type if in Jupyter Notebook environment and previously unregistered\n",
       "  if (root.Jupyter !== undefined) {\n",
       "    var events = require('base/js/events');\n",
       "    var OutputArea = require('notebook/js/outputarea').OutputArea;\n",
       "\n",
       "    if (OutputArea.prototype.mime_types().indexOf(EXEC_MIME_TYPE) == -1) {\n",
       "      register_renderer(events, OutputArea);\n",
       "    }\n",
       "  }\n",
       "\n",
       "  \n",
       "  if (typeof (root._bokeh_timeout) === \"undefined\" || force === true) {\n",
       "    root._bokeh_timeout = Date.now() + 5000;\n",
       "    root._bokeh_failed_load = false;\n",
       "  }\n",
       "\n",
       "  var NB_LOAD_WARNING = {'data': {'text/html':\n",
       "     \"<div style='background-color: #fdd'>\\n\"+\n",
       "     \"<p>\\n\"+\n",
       "     \"BokehJS does not appear to have successfully loaded. If loading BokehJS from CDN, this \\n\"+\n",
       "     \"may be due to a slow or bad network connection. Possible fixes:\\n\"+\n",
       "     \"</p>\\n\"+\n",
       "     \"<ul>\\n\"+\n",
       "     \"<li>re-rerun `output_notebook()` to attempt to load from CDN again, or</li>\\n\"+\n",
       "     \"<li>use INLINE resources instead, as so:</li>\\n\"+\n",
       "     \"</ul>\\n\"+\n",
       "     \"<code>\\n\"+\n",
       "     \"from bokeh.resources import INLINE\\n\"+\n",
       "     \"output_notebook(resources=INLINE)\\n\"+\n",
       "     \"</code>\\n\"+\n",
       "     \"</div>\"}};\n",
       "\n",
       "  function display_loaded() {\n",
       "    var el = document.getElementById(\"ede5e830-9077-4804-9f8c-e694cc7057ab\");\n",
       "    if (el != null) {\n",
       "      el.textContent = \"BokehJS is loading...\";\n",
       "    }\n",
       "    if (root.Bokeh !== undefined) {\n",
       "      if (el != null) {\n",
       "        el.textContent = \"BokehJS \" + root.Bokeh.version + \" successfully loaded.\";\n",
       "      }\n",
       "    } else if (Date.now() < root._bokeh_timeout) {\n",
       "      setTimeout(display_loaded, 100)\n",
       "    }\n",
       "  }\n",
       "\n",
       "\n",
       "  function run_callbacks() {\n",
       "    try {\n",
       "      root._bokeh_onload_callbacks.forEach(function(callback) { callback() });\n",
       "    }\n",
       "    finally {\n",
       "      delete root._bokeh_onload_callbacks\n",
       "    }\n",
       "    console.info(\"Bokeh: all callbacks have finished\");\n",
       "  }\n",
       "\n",
       "  function load_libs(js_urls, callback) {\n",
       "    root._bokeh_onload_callbacks.push(callback);\n",
       "    if (root._bokeh_is_loading > 0) {\n",
       "      console.log(\"Bokeh: BokehJS is being loaded, scheduling callback at\", now());\n",
       "      return null;\n",
       "    }\n",
       "    if (js_urls == null || js_urls.length === 0) {\n",
       "      run_callbacks();\n",
       "      return null;\n",
       "    }\n",
       "    console.log(\"Bokeh: BokehJS not loaded, scheduling load and callback at\", now());\n",
       "    root._bokeh_is_loading = js_urls.length;\n",
       "    for (var i = 0; i < js_urls.length; i++) {\n",
       "      var url = js_urls[i];\n",
       "      var s = document.createElement('script');\n",
       "      s.src = url;\n",
       "      s.async = false;\n",
       "      s.onreadystatechange = s.onload = function() {\n",
       "        root._bokeh_is_loading--;\n",
       "        if (root._bokeh_is_loading === 0) {\n",
       "          console.log(\"Bokeh: all BokehJS libraries loaded\");\n",
       "          run_callbacks()\n",
       "        }\n",
       "      };\n",
       "      s.onerror = function() {\n",
       "        console.warn(\"failed to load library \" + url);\n",
       "      };\n",
       "      console.log(\"Bokeh: injecting script tag for BokehJS library: \", url);\n",
       "      document.getElementsByTagName(\"head\")[0].appendChild(s);\n",
       "    }\n",
       "  };var element = document.getElementById(\"ede5e830-9077-4804-9f8c-e694cc7057ab\");\n",
       "  if (element == null) {\n",
       "    console.log(\"Bokeh: ERROR: autoload.js configured with elementid 'ede5e830-9077-4804-9f8c-e694cc7057ab' but no matching script tag was found. \")\n",
       "    return false;\n",
       "  }\n",
       "\n",
       "  var js_urls = [\"https://cdn.pydata.org/bokeh/release/bokeh-0.13.0.min.js\", \"https://cdn.pydata.org/bokeh/release/bokeh-widgets-0.13.0.min.js\", \"https://cdn.pydata.org/bokeh/release/bokeh-tables-0.13.0.min.js\", \"https://cdn.pydata.org/bokeh/release/bokeh-gl-0.13.0.min.js\"];\n",
       "\n",
       "  var inline_js = [\n",
       "    function(Bokeh) {\n",
       "      Bokeh.set_log_level(\"info\");\n",
       "    },\n",
       "    \n",
       "    function(Bokeh) {\n",
       "      \n",
       "    },\n",
       "    function(Bokeh) {\n",
       "      console.log(\"Bokeh: injecting CSS: https://cdn.pydata.org/bokeh/release/bokeh-0.13.0.min.css\");\n",
       "      Bokeh.embed.inject_css(\"https://cdn.pydata.org/bokeh/release/bokeh-0.13.0.min.css\");\n",
       "      console.log(\"Bokeh: injecting CSS: https://cdn.pydata.org/bokeh/release/bokeh-widgets-0.13.0.min.css\");\n",
       "      Bokeh.embed.inject_css(\"https://cdn.pydata.org/bokeh/release/bokeh-widgets-0.13.0.min.css\");\n",
       "      console.log(\"Bokeh: injecting CSS: https://cdn.pydata.org/bokeh/release/bokeh-tables-0.13.0.min.css\");\n",
       "      Bokeh.embed.inject_css(\"https://cdn.pydata.org/bokeh/release/bokeh-tables-0.13.0.min.css\");\n",
       "    }\n",
       "  ];\n",
       "\n",
       "  function run_inline_js() {\n",
       "    \n",
       "    if ((root.Bokeh !== undefined) || (force === true)) {\n",
       "      for (var i = 0; i < inline_js.length; i++) {\n",
       "        inline_js[i].call(root, root.Bokeh);\n",
       "      }if (force === true) {\n",
       "        display_loaded();\n",
       "      }} else if (Date.now() < root._bokeh_timeout) {\n",
       "      setTimeout(run_inline_js, 100);\n",
       "    } else if (!root._bokeh_failed_load) {\n",
       "      console.log(\"Bokeh: BokehJS failed to load within specified timeout.\");\n",
       "      root._bokeh_failed_load = true;\n",
       "    } else if (force !== true) {\n",
       "      var cell = $(document.getElementById(\"ede5e830-9077-4804-9f8c-e694cc7057ab\")).parents('.cell').data().cell;\n",
       "      cell.output_area.append_execute_result(NB_LOAD_WARNING)\n",
       "    }\n",
       "\n",
       "  }\n",
       "\n",
       "  if (root._bokeh_is_loading === 0) {\n",
       "    console.log(\"Bokeh: BokehJS loaded, going straight to plotting\");\n",
       "    run_inline_js();\n",
       "  } else {\n",
       "    load_libs(js_urls, function() {\n",
       "      console.log(\"Bokeh: BokehJS plotting callback run at\", now());\n",
       "      run_inline_js();\n",
       "    });\n",
       "  }\n",
       "}(window));"
      ],
      "application/vnd.bokehjs_load.v0+json": "\n(function(root) {\n  function now() {\n    return new Date();\n  }\n\n  var force = true;\n\n  if (typeof (root._bokeh_onload_callbacks) === \"undefined\" || force === true) {\n    root._bokeh_onload_callbacks = [];\n    root._bokeh_is_loading = undefined;\n  }\n\n  \n\n  \n  if (typeof (root._bokeh_timeout) === \"undefined\" || force === true) {\n    root._bokeh_timeout = Date.now() + 5000;\n    root._bokeh_failed_load = false;\n  }\n\n  var NB_LOAD_WARNING = {'data': {'text/html':\n     \"<div style='background-color: #fdd'>\\n\"+\n     \"<p>\\n\"+\n     \"BokehJS does not appear to have successfully loaded. If loading BokehJS from CDN, this \\n\"+\n     \"may be due to a slow or bad network connection. Possible fixes:\\n\"+\n     \"</p>\\n\"+\n     \"<ul>\\n\"+\n     \"<li>re-rerun `output_notebook()` to attempt to load from CDN again, or</li>\\n\"+\n     \"<li>use INLINE resources instead, as so:</li>\\n\"+\n     \"</ul>\\n\"+\n     \"<code>\\n\"+\n     \"from bokeh.resources import INLINE\\n\"+\n     \"output_notebook(resources=INLINE)\\n\"+\n     \"</code>\\n\"+\n     \"</div>\"}};\n\n  function display_loaded() {\n    var el = document.getElementById(\"ede5e830-9077-4804-9f8c-e694cc7057ab\");\n    if (el != null) {\n      el.textContent = \"BokehJS is loading...\";\n    }\n    if (root.Bokeh !== undefined) {\n      if (el != null) {\n        el.textContent = \"BokehJS \" + root.Bokeh.version + \" successfully loaded.\";\n      }\n    } else if (Date.now() < root._bokeh_timeout) {\n      setTimeout(display_loaded, 100)\n    }\n  }\n\n\n  function run_callbacks() {\n    try {\n      root._bokeh_onload_callbacks.forEach(function(callback) { callback() });\n    }\n    finally {\n      delete root._bokeh_onload_callbacks\n    }\n    console.info(\"Bokeh: all callbacks have finished\");\n  }\n\n  function load_libs(js_urls, callback) {\n    root._bokeh_onload_callbacks.push(callback);\n    if (root._bokeh_is_loading > 0) {\n      console.log(\"Bokeh: BokehJS is being loaded, scheduling callback at\", now());\n      return null;\n    }\n    if (js_urls == null || js_urls.length === 0) {\n      run_callbacks();\n      return null;\n    }\n    console.log(\"Bokeh: BokehJS not loaded, scheduling load and callback at\", now());\n    root._bokeh_is_loading = js_urls.length;\n    for (var i = 0; i < js_urls.length; i++) {\n      var url = js_urls[i];\n      var s = document.createElement('script');\n      s.src = url;\n      s.async = false;\n      s.onreadystatechange = s.onload = function() {\n        root._bokeh_is_loading--;\n        if (root._bokeh_is_loading === 0) {\n          console.log(\"Bokeh: all BokehJS libraries loaded\");\n          run_callbacks()\n        }\n      };\n      s.onerror = function() {\n        console.warn(\"failed to load library \" + url);\n      };\n      console.log(\"Bokeh: injecting script tag for BokehJS library: \", url);\n      document.getElementsByTagName(\"head\")[0].appendChild(s);\n    }\n  };var element = document.getElementById(\"ede5e830-9077-4804-9f8c-e694cc7057ab\");\n  if (element == null) {\n    console.log(\"Bokeh: ERROR: autoload.js configured with elementid 'ede5e830-9077-4804-9f8c-e694cc7057ab' but no matching script tag was found. \")\n    return false;\n  }\n\n  var js_urls = [\"https://cdn.pydata.org/bokeh/release/bokeh-0.13.0.min.js\", \"https://cdn.pydata.org/bokeh/release/bokeh-widgets-0.13.0.min.js\", \"https://cdn.pydata.org/bokeh/release/bokeh-tables-0.13.0.min.js\", \"https://cdn.pydata.org/bokeh/release/bokeh-gl-0.13.0.min.js\"];\n\n  var inline_js = [\n    function(Bokeh) {\n      Bokeh.set_log_level(\"info\");\n    },\n    \n    function(Bokeh) {\n      \n    },\n    function(Bokeh) {\n      console.log(\"Bokeh: injecting CSS: https://cdn.pydata.org/bokeh/release/bokeh-0.13.0.min.css\");\n      Bokeh.embed.inject_css(\"https://cdn.pydata.org/bokeh/release/bokeh-0.13.0.min.css\");\n      console.log(\"Bokeh: injecting CSS: https://cdn.pydata.org/bokeh/release/bokeh-widgets-0.13.0.min.css\");\n      Bokeh.embed.inject_css(\"https://cdn.pydata.org/bokeh/release/bokeh-widgets-0.13.0.min.css\");\n      console.log(\"Bokeh: injecting CSS: https://cdn.pydata.org/bokeh/release/bokeh-tables-0.13.0.min.css\");\n      Bokeh.embed.inject_css(\"https://cdn.pydata.org/bokeh/release/bokeh-tables-0.13.0.min.css\");\n    }\n  ];\n\n  function run_inline_js() {\n    \n    if ((root.Bokeh !== undefined) || (force === true)) {\n      for (var i = 0; i < inline_js.length; i++) {\n        inline_js[i].call(root, root.Bokeh);\n      }if (force === true) {\n        display_loaded();\n      }} else if (Date.now() < root._bokeh_timeout) {\n      setTimeout(run_inline_js, 100);\n    } else if (!root._bokeh_failed_load) {\n      console.log(\"Bokeh: BokehJS failed to load within specified timeout.\");\n      root._bokeh_failed_load = true;\n    } else if (force !== true) {\n      var cell = $(document.getElementById(\"ede5e830-9077-4804-9f8c-e694cc7057ab\")).parents('.cell').data().cell;\n      cell.output_area.append_execute_result(NB_LOAD_WARNING)\n    }\n\n  }\n\n  if (root._bokeh_is_loading === 0) {\n    console.log(\"Bokeh: BokehJS loaded, going straight to plotting\");\n    run_inline_js();\n  } else {\n    load_libs(js_urls, function() {\n      console.log(\"Bokeh: BokehJS plotting callback run at\", now());\n      run_inline_js();\n    });\n  }\n}(window));"
     },
     "metadata": {},
     "output_type": "display_data"
    }
   ],
   "source": [
    "from bokeh.models import ColumnDataSource, LabelSet\n",
    "from bokeh.plotting import figure, show, output_file\n",
    "from bokeh.io import output_notebook\n",
    "output_notebook()"
   ]
  },
  {
   "cell_type": "markdown",
   "metadata": {},
   "source": [
    "### Part 0: Download the TED dataset"
   ]
  },
  {
   "cell_type": "code",
   "execution_count": 3,
   "metadata": {},
   "outputs": [],
   "source": [
    "import urllib.request\n",
    "import zipfile\n",
    "import lxml.etree"
   ]
  },
  {
   "cell_type": "code",
   "execution_count": 4,
   "metadata": {},
   "outputs": [],
   "source": [
    "# Download the dataset if it's not already there: this may take a minute as it is 75MB\n",
    "if not os.path.isfile('ted_en-20160408.zip'):\n",
    "    urllib.request.urlretrieve(\"https://wit3.fbk.eu/get.php?path=XML_releases/xml/ted_en-20160408.zip&filename=ted_en-20160408.zip\", filename=\"ted_en-20160408.zip\")"
   ]
  },
  {
   "cell_type": "code",
   "execution_count": 5,
   "metadata": {},
   "outputs": [],
   "source": [
    "# For now, we're only interested in the subtitle text, so let's extract that from the XML:\n",
    "with zipfile.ZipFile('ted_en-20160408.zip', 'r') as z:\n",
    "    doc = lxml.etree.parse(z.open('ted_en-20160408.xml', 'r'))\n",
    "input_text = '\\n'.join(doc.xpath('//content/text()'))\n",
    "del doc"
   ]
  },
  {
   "cell_type": "markdown",
   "metadata": {},
   "source": [
    "### Part 1: Preprocessing\n",
    "\n",
    "In this part, we attempt to clean up the raw subtitles a bit, so that we get only sentences. The following substring shows examples of what we're trying to get rid of. Since it's hard to define precisely what we want to get rid of, we'll just use some simple heuristics."
   ]
  },
  {
   "cell_type": "code",
   "execution_count": 6,
   "metadata": {
    "scrolled": false
   },
   "outputs": [
    {
     "data": {
      "text/plain": [
       "' baby does.\\n(Video) Hyowon Gweon: See this? (Ball squeaks) Did you see that? (Ball squeaks) Cool. See this one? (Ball squeaks) Wow.\\nLaura Schulz: Told you. (Laughs)\\n(Vide'"
      ]
     },
     "execution_count": 6,
     "metadata": {},
     "output_type": "execute_result"
    }
   ],
   "source": [
    "i = input_text.find(\"Hyowon Gweon: See this?\")\n",
    "input_text[i-20:i+150]"
   ]
  },
  {
   "cell_type": "markdown",
   "metadata": {},
   "source": [
    "Let's start by removing all parenthesized strings using a regex:"
   ]
  },
  {
   "cell_type": "code",
   "execution_count": 7,
   "metadata": {},
   "outputs": [],
   "source": [
    "input_text_noparens = re.sub(r'\\([^)]*\\)', '', input_text)"
   ]
  },
  {
   "cell_type": "markdown",
   "metadata": {},
   "source": [
    "We can verify the same location in the text is now clean as follows. We won't worry about the irregular spaces since we'll later split the text into sentences and tokenize it anyway."
   ]
  },
  {
   "cell_type": "code",
   "execution_count": 8,
   "metadata": {},
   "outputs": [
    {
     "data": {
      "text/plain": [
       "\"hat the baby does.\\n Hyowon Gweon: See this?  Did you see that?  Cool. See this one?  Wow.\\nLaura Schulz: Told you. \\n HG: See this one?  Hey Clara, this one's for you. You \""
      ]
     },
     "execution_count": 8,
     "metadata": {},
     "output_type": "execute_result"
    }
   ],
   "source": [
    "i = input_text_noparens.find(\"Hyowon Gweon: See this?\")\n",
    "input_text_noparens[i-20:i+150]"
   ]
  },
  {
   "cell_type": "markdown",
   "metadata": {},
   "source": [
    "Now, let's attempt to remove speakers' names that occur at the beginning of a line, by deleting pieces of the form \"`<up to 20 characters>:`\", as shown in this example. Of course, this is an imperfect heuristic. "
   ]
  },
  {
   "cell_type": "code",
   "execution_count": 9,
   "metadata": {},
   "outputs": [
    {
     "data": {
      "text/plain": [
       "[\"Here are two reasons companies fail: they only do more of the same, or they only do what's new\",\n",
       " 'To me the real, real solution to quality growth is figuring out the balance between two activities: exploration and exploitation',\n",
       " ' Both are necessary, but it can be too much of a good thing',\n",
       " 'Consider Facit',\n",
       " \" I'm actually old enough to remember them\"]"
      ]
     },
     "execution_count": 9,
     "metadata": {},
     "output_type": "execute_result"
    }
   ],
   "source": [
    "sentences_strings_ted = []\n",
    "for line in input_text_noparens.split('\\n'):\n",
    "    m = re.match(r'^(?:(?P<precolon>[^:]{,20}):)?(?P<postcolon>.*)$', line)\n",
    "    sentences_strings_ted.extend(sent for sent in m.groupdict()['postcolon'].split('.') if sent)\n",
    "\n",
    "# Uncomment if you need to save some RAM: these strings are about 50MB.\n",
    "# del input_text, input_text_noparens\n",
    "\n",
    "# Let's view the first few:\n",
    "sentences_strings_ted[:5]"
   ]
  },
  {
   "cell_type": "markdown",
   "metadata": {},
   "source": [
    "Now that we have sentences, we're ready to tokenize each of them into words. This tokenization is imperfect, of course. For instance, how many tokens is \"can't\", and where/how do we split it? We'll take the simplest naive approach of splitting on spaces. Before splitting, we remove non-alphanumeric characters, such as punctuation. You may want to consider the following question: why do we replace these characters with spaces rather than deleting them? Think of a case where this yields a different answer."
   ]
  },
  {
   "cell_type": "code",
   "execution_count": 10,
   "metadata": {},
   "outputs": [],
   "source": [
    "sentences_ted = []\n",
    "for sent_str in sentences_strings_ted:\n",
    "    tokens = re.sub(r\"[^a-z0-9]+\", \" \", sent_str.lower()).split()\n",
    "    sentences_ted.append(tokens)"
   ]
  },
  {
   "cell_type": "markdown",
   "metadata": {},
   "source": [
    "Two sample processed sentences:"
   ]
  },
  {
   "cell_type": "code",
   "execution_count": 11,
   "metadata": {},
   "outputs": [
    {
     "data": {
      "text/plain": [
       "266694"
      ]
     },
     "execution_count": 11,
     "metadata": {},
     "output_type": "execute_result"
    }
   ],
   "source": [
    "len(sentences_ted)"
   ]
  },
  {
   "cell_type": "code",
   "execution_count": 12,
   "metadata": {},
   "outputs": [
    {
     "name": "stdout",
     "output_type": "stream",
     "text": [
      "['here', 'are', 'two', 'reasons', 'companies', 'fail', 'they', 'only', 'do', 'more', 'of', 'the', 'same', 'or', 'they', 'only', 'do', 'what', 's', 'new']\n",
      "['to', 'me', 'the', 'real', 'real', 'solution', 'to', 'quality', 'growth', 'is', 'figuring', 'out', 'the', 'balance', 'between', 'two', 'activities', 'exploration', 'and', 'exploitation']\n"
     ]
    }
   ],
   "source": [
    "print(sentences_ted[0])\n",
    "print(sentences_ted[1])"
   ]
  },
  {
   "cell_type": "markdown",
   "metadata": {},
   "source": [
    "### Part 2: Word Frequencies"
   ]
  },
  {
   "cell_type": "markdown",
   "metadata": {},
   "source": [
    "If you store the counts of the top 1000 words in a list called `counts_ted_top1000`, the code below will plot the histogram requested in the writeup."
   ]
  },
  {
   "cell_type": "code",
   "execution_count": 49,
   "metadata": {},
   "outputs": [],
   "source": [
    "# ...\n",
    "import collections\n",
    "count = collections.Counter()\n",
    "for sentence in sentences_ted:\n",
    "    for word in sentence:\n",
    "        count[word] += 1\n",
    "words_top_ted = [token_count_pair[0] for token_count_pair in count.most_common(1000)]\n",
    "counts_ted_top1000 = [token_count_pair[1] for token_count_pair in count.most_common(1000)]\n"
   ]
  },
  {
   "cell_type": "markdown",
   "metadata": {},
   "source": [
    "Plot distribution of top-1000 words"
   ]
  },
  {
   "cell_type": "code",
   "execution_count": 50,
   "metadata": {},
   "outputs": [
    {
     "data": {
      "text/html": [
       "\n",
       "\n",
       "\n",
       "\n",
       "\n",
       "\n",
       "  <div class=\"bk-root\" id=\"e8a0034e-13e8-41e5-8a2c-0483a68eeaae\"></div>\n"
      ]
     },
     "metadata": {},
     "output_type": "display_data"
    },
    {
     "data": {
      "application/javascript": [
       "(function(root) {\n",
       "  function embed_document(root) {\n",
       "    \n",
       "  var docs_json = {\"98cd30c2-9d81-44e7-a066-18c48b986b91\":{\"roots\":{\"references\":[{\"attributes\":{\"plot\":null,\"text\":\"Top-1000 words distribution\"},\"id\":\"6992f634-7df5-4fa5-822b-4301260e7a90\",\"type\":\"Title\"},{\"attributes\":{},\"id\":\"c2391eb3-dbf2-4ebd-bdf9-ccae5072ceff\",\"type\":\"BasicTicker\"},{\"attributes\":{},\"id\":\"c8ce6f94-088c-46c7-9939-c2dcd4dbb760\",\"type\":\"Selection\"},{\"attributes\":{},\"id\":\"bfe04309-675e-4218-888b-12350e3999f6\",\"type\":\"LinearScale\"},{\"attributes\":{\"dimension\":1,\"plot\":{\"id\":\"a4b5b433-7ccc-4bd5-bde5-fa7e63e27a2e\",\"subtype\":\"Figure\",\"type\":\"Plot\"},\"ticker\":{\"id\":\"9c64dd77-04b6-4de7-9f13-3c1ba1709b95\",\"type\":\"BasicTicker\"}},\"id\":\"6d82e62a-b957-4dbe-beba-2927f9d5d56c\",\"type\":\"Grid\"},{\"attributes\":{\"plot\":{\"id\":\"a4b5b433-7ccc-4bd5-bde5-fa7e63e27a2e\",\"subtype\":\"Figure\",\"type\":\"Plot\"},\"ticker\":{\"id\":\"c2391eb3-dbf2-4ebd-bdf9-ccae5072ceff\",\"type\":\"BasicTicker\"}},\"id\":\"f13074d4-61ea-4ca4-9598-050442d53a98\",\"type\":\"Grid\"},{\"attributes\":{\"below\":[{\"id\":\"ca7bed5c-72ed-4c13-b91e-3c7d07d7820e\",\"type\":\"LinearAxis\"}],\"left\":[{\"id\":\"d1556d7c-a10e-444c-b304-75b2c0a29ec3\",\"type\":\"LinearAxis\"}],\"renderers\":[{\"id\":\"ca7bed5c-72ed-4c13-b91e-3c7d07d7820e\",\"type\":\"LinearAxis\"},{\"id\":\"f13074d4-61ea-4ca4-9598-050442d53a98\",\"type\":\"Grid\"},{\"id\":\"d1556d7c-a10e-444c-b304-75b2c0a29ec3\",\"type\":\"LinearAxis\"},{\"id\":\"6d82e62a-b957-4dbe-beba-2927f9d5d56c\",\"type\":\"Grid\"},{\"id\":\"a1c1d4a5-e98f-4d0d-b056-f5eaf2f6a233\",\"type\":\"GlyphRenderer\"}],\"title\":{\"id\":\"6992f634-7df5-4fa5-822b-4301260e7a90\",\"type\":\"Title\"},\"toolbar\":{\"id\":\"37ee1b46-9f51-472d-8afc-bbd498f223b3\",\"type\":\"Toolbar\"},\"toolbar_location\":\"above\",\"x_range\":{\"id\":\"0dc7ad00-490b-42f0-8777-7e426daede56\",\"type\":\"DataRange1d\"},\"x_scale\":{\"id\":\"c7b61b83-f868-499d-b045-2537b6ad34a4\",\"type\":\"LinearScale\"},\"y_range\":{\"id\":\"e45c3d87-8e42-4e1e-a864-2262e5301223\",\"type\":\"DataRange1d\"},\"y_scale\":{\"id\":\"bfe04309-675e-4218-888b-12350e3999f6\",\"type\":\"LinearScale\"}},\"id\":\"a4b5b433-7ccc-4bd5-bde5-fa7e63e27a2e\",\"subtype\":\"Figure\",\"type\":\"Plot\"},{\"attributes\":{},\"id\":\"f2e5ea02-fe8c-420b-b202-bdba108d68e2\",\"type\":\"BasicTickFormatter\"},{\"attributes\":{\"bottom\":{\"value\":0},\"fill_alpha\":{\"value\":0.1},\"fill_color\":{\"value\":\"#1f77b4\"},\"left\":{\"field\":\"left\"},\"line_alpha\":{\"value\":0.1},\"line_color\":{\"value\":\"#1f77b4\"},\"right\":{\"field\":\"right\"},\"top\":{\"field\":\"top\"}},\"id\":\"067c19cc-6ab7-4eb6-a73b-a537e55c5537\",\"type\":\"Quad\"},{\"attributes\":{\"source\":{\"id\":\"70bc93e8-0075-4b06-bc4c-a3bc00558899\",\"type\":\"ColumnDataSource\"}},\"id\":\"8df4f770-d1de-4c42-969a-db569f7d0fd5\",\"type\":\"CDSView\"},{\"attributes\":{\"bottom\":{\"value\":0},\"fill_color\":{\"value\":\"#1f77b4\"},\"left\":{\"field\":\"left\"},\"line_color\":{\"value\":\"#555555\"},\"right\":{\"field\":\"right\"},\"top\":{\"field\":\"top\"}},\"id\":\"c33762ec-c63d-4ef1-bb5d-19d17c28bd03\",\"type\":\"Quad\"},{\"attributes\":{\"callback\":null},\"id\":\"0dc7ad00-490b-42f0-8777-7e426daede56\",\"type\":\"DataRange1d\"},{\"attributes\":{},\"id\":\"96b83509-a0f1-4a17-b3b2-7bcad9b7d952\",\"type\":\"SaveTool\"},{\"attributes\":{},\"id\":\"c7b61b83-f868-499d-b045-2537b6ad34a4\",\"type\":\"LinearScale\"},{\"attributes\":{},\"id\":\"41ca1f82-ed8d-4f8c-bde9-bc0ee446ee11\",\"type\":\"BasicTickFormatter\"},{\"attributes\":{},\"id\":\"07d4eecf-424c-4086-a69a-429d60535448\",\"type\":\"ResetTool\"},{\"attributes\":{},\"id\":\"816ab215-345f-46cc-9626-0ffa8a3038f9\",\"type\":\"WheelZoomTool\"},{\"attributes\":{\"callback\":null},\"id\":\"e45c3d87-8e42-4e1e-a864-2262e5301223\",\"type\":\"DataRange1d\"},{\"attributes\":{\"data_source\":{\"id\":\"70bc93e8-0075-4b06-bc4c-a3bc00558899\",\"type\":\"ColumnDataSource\"},\"glyph\":{\"id\":\"c33762ec-c63d-4ef1-bb5d-19d17c28bd03\",\"type\":\"Quad\"},\"hover_glyph\":null,\"muted_glyph\":null,\"nonselection_glyph\":{\"id\":\"067c19cc-6ab7-4eb6-a73b-a537e55c5537\",\"type\":\"Quad\"},\"selection_glyph\":null,\"view\":{\"id\":\"8df4f770-d1de-4c42-969a-db569f7d0fd5\",\"type\":\"CDSView\"}},\"id\":\"a1c1d4a5-e98f-4d0d-b056-f5eaf2f6a233\",\"type\":\"GlyphRenderer\"},{\"attributes\":{},\"id\":\"9c64dd77-04b6-4de7-9f13-3c1ba1709b95\",\"type\":\"BasicTicker\"},{\"attributes\":{\"active_drag\":\"auto\",\"active_inspect\":\"auto\",\"active_multi\":null,\"active_scroll\":\"auto\",\"active_tap\":\"auto\",\"tools\":[{\"id\":\"4bf09947-50f2-48f8-94e4-af5c9e696b61\",\"type\":\"PanTool\"},{\"id\":\"816ab215-345f-46cc-9626-0ffa8a3038f9\",\"type\":\"WheelZoomTool\"},{\"id\":\"07d4eecf-424c-4086-a69a-429d60535448\",\"type\":\"ResetTool\"},{\"id\":\"96b83509-a0f1-4a17-b3b2-7bcad9b7d952\",\"type\":\"SaveTool\"}]},\"id\":\"37ee1b46-9f51-472d-8afc-bbd498f223b3\",\"type\":\"Toolbar\"},{\"attributes\":{\"formatter\":{\"id\":\"f2e5ea02-fe8c-420b-b202-bdba108d68e2\",\"type\":\"BasicTickFormatter\"},\"plot\":{\"id\":\"a4b5b433-7ccc-4bd5-bde5-fa7e63e27a2e\",\"subtype\":\"Figure\",\"type\":\"Plot\"},\"ticker\":{\"id\":\"c2391eb3-dbf2-4ebd-bdf9-ccae5072ceff\",\"type\":\"BasicTicker\"}},\"id\":\"ca7bed5c-72ed-4c13-b91e-3c7d07d7820e\",\"type\":\"LinearAxis\"},{\"attributes\":{},\"id\":\"4bf09947-50f2-48f8-94e4-af5c9e696b61\",\"type\":\"PanTool\"},{\"attributes\":{},\"id\":\"c8862c5e-ee54-470d-816b-717eb5b68ea6\",\"type\":\"UnionRenderers\"},{\"attributes\":{\"callback\":null,\"data\":{\"left\":{\"__ndarray__\":\"AAAAAABAeUB7FK5H4VqjQHsUrkfhxrFAuB6F61HguUB7FK5H4fzAQJqZmZmZCcVAuB6F61EWyUDXo3A9CiPNQHsUrkfhl9BACtejcD2e0kCamZmZmaTUQClcj8L1qtZAuB6F61Gx2EBI4XoUrrfaQNejcD0KvtxAZ2ZmZmbE3kB7FK5HYWXgQMP1KFyPaOFACtejcL1r4kBSuB6F627jQJqZmZkZcuRA4XoUrkd15UApXI/CdXjmQHE9Cteje+dAuB6F69F+6EAAAAAAAILpQEjhehQuhepAkML1KFyI60DXo3A9iovsQB+F61G4ju1AZ2ZmZuaR7kCuR+F6FJXvQHsUrkchTPBAH4XrUbjN8EDD9ShcT0/xQGdmZmbm0PFACtejcH1S8kCuR+F6FNTyQFK4HoWrVfNA9ihcj0LX80CamZmZ2Vj0QD4K16Nw2vRA4XoUrgdc9UCF61G4nt31QClcj8I1X/ZAzczMzMzg9kBxPQrXY2L3QBWuR+H64/dAuB6F65Fl+EBcj8L1KOf4QAAAAADAaPlApHA9Clfq+UBI4XoU7mv6QOxRuB6F7fpAkML1KBxv+0AzMzMzs/D7QNejcD1KcvxAexSuR+Hz/EAfhetReHX9QMP1KFwP9/1AZ2ZmZqZ4/kAK16NwPfr+QK5H4XrUe/9AUrgehWv9/0B7FK5HgT8AQc3MzMxMgABBH4XrURjBAEFxPQrX4wEBQcP1KFyvQgFBFa5H4XqDAUFnZmZmRsQBQbgehesRBQJBCtejcN1FAkFcj8L1qIYCQa5H4Xp0xwJBAAAAAEAIA0FSuB6FC0kDQaRwPQrXiQNB9ihcj6LKA0FI4XoUbgsEQZqZmZk5TARB7FG4HgWNBEE+Ctej0M0EQZDC9SicDgVB4XoUrmdPBUEzMzMzM5AFQYXrUbj+0AVB16NwPcoRBkEpXI/ClVIGQXsUrkdhkwZBzczMzCzUBkEfhetR+BQHQXE9CtfDVQdBw/UoXI+WB0EVrkfhWtcHQWdmZmYmGAhBuB6F6/FYCEEK16NwvZkIQVyPwvWI2ghBrkfhelQbCUE=\",\"dtype\":\"float64\",\"shape\":[100]},\"right\":{\"__ndarray__\":\"exSuR+Fao0B7FK5H4caxQLgehetR4LlAexSuR+H8wECamZmZmQnFQLgehetRFslA16NwPQojzUB7FK5H4ZfQQArXo3A9ntJAmpmZmZmk1EApXI/C9arWQLgehetRsdhASOF6FK632kDXo3A9Cr7cQGdmZmZmxN5AexSuR2Fl4EDD9Shcj2jhQArXo3C9a+JAUrgehetu40CamZmZGXLkQOF6FK5HdeVAKVyPwnV45kBxPQrXo3vnQLgehevRfuhAAAAAAACC6UBI4XoULoXqQJDC9ShciOtA16NwPYqL7EAfhetRuI7tQGdmZmbmke5ArkfhehSV70B7FK5HIUzwQB+F61G4zfBAw/UoXE9P8UBnZmZm5tDxQArXo3B9UvJArkfhehTU8kBSuB6Fq1XzQPYoXI9C1/NAmpmZmdlY9EA+CtejcNr0QOF6FK4HXPVAhetRuJ7d9UApXI/CNV/2QM3MzMzM4PZAcT0K12Ni90AVrkfh+uP3QLgeheuRZfhAXI/C9Sjn+EAAAAAAwGj5QKRwPQpX6vlASOF6FO5r+kDsUbgehe36QJDC9Sgcb/tAMzMzM7Pw+0DXo3A9SnL8QHsUrkfh8/xAH4XrUXh1/UDD9ShcD/f9QGdmZmameP5ACtejcD36/kCuR+F61Hv/QFK4HoVr/f9AexSuR4E/AEHNzMzMTIAAQR+F61EYwQBBcT0K1+MBAUHD9Shcr0IBQRWuR+F6gwFBZ2ZmZkbEAUG4HoXrEQUCQQrXo3DdRQJBXI/C9aiGAkGuR+F6dMcCQQAAAABACANBUrgehQtJA0GkcD0K14kDQfYoXI+iygNBSOF6FG4LBEGamZmZOUwEQexRuB4FjQRBPgrXo9DNBEGQwvUonA4FQeF6FK5nTwVBMzMzMzOQBUGF61G4/tAFQdejcD3KEQZBKVyPwpVSBkF7FK5HYZMGQc3MzMws1AZBH4XrUfgUB0FxPQrXw1UHQcP1KFyPlgdBFa5H4VrXB0FnZmZmJhgIQbgehevxWAhBCtejcL2ZCEFcj8L1iNoIQa5H4XpUGwlBAAAAACBcCUE=\",\"dtype\":\"float64\",\"shape\":[100]},\"top\":{\"__ndarray__\":\"50H1zNSBOT/ypb1tgHIBPwsriUb5Uew+zuTFiLI04j78kGUPxTHhPh40R25oQNY+zuTFiLI00j4pPQWW1y7APsTbB2FDRsg+JT0FltcuwD4tPQWW1y6wPi09BZbXLrA+JT0FltcuwD4tPQWW1y6gPiU9BZbXLrA+LT0FltcuoD4AAAAAAAAAADU9BZbXLqA+AAAAAAAAAAAAAAAAAAAAAAAAAAAAAAAAAAAAAAAAAAAAAAAAAAAAADU9BZbXLqA+AAAAAAAAAAAAAAAAAAAAAAAAAAAAAAAANT0FltcuoD4AAAAAAAAAAAAAAAAAAAAANT0FltcuoD4AAAAAAAAAACU9BZbXLqA+AAAAAAAAAAAlPQWW1y6gPkU9BZbXLqA+AAAAAAAAAAAlPQWW1y6gPgAAAAAAAAAAJT0FltcuoD4AAAAAAAAAAAAAAAAAAAAAAAAAAAAAAAAAAAAAAAAAAAAAAAAAAAAAJT0FltcuoD4AAAAAAAAAAAAAAAAAAAAAAAAAAAAAAAAAAAAAAAAAACU9BZbXLqA+AAAAAAAAAAAAAAAAAAAAAAAAAAAAAAAAAAAAAAAAAAAlPQWW1y6gPgAAAAAAAAAAAAAAAAAAAAAAAAAAAAAAAAAAAAAAAAAART0FltcuoD4AAAAAAAAAAAAAAAAAAAAAAAAAAAAAAAAAAAAAAAAAAAAAAAAAAAAAAAAAAAAAAAAAAAAAAAAAAAAAAAAAAAAAAAAAAAAAAAAAAAAAAAAAACU9BZbXLqA+AAAAAAAAAAAAAAAAAAAAAAAAAAAAAAAAAAAAAAAAAAAAAAAAAAAAAAAAAAAAAAAAAAAAAAAAAAAAAAAAAAAAAAAAAAAAAAAAAAAAAAAAAAAAAAAAAAAAAAAAAAAAAAAAAAAAAAAAAAAAAAAAAAAAAAAAAAAAAAAAAAAAAAAAAAAAAAAAAAAAAAAAAAAAAAAAAAAAAAAAAAAAAAAAAAAAAAAAAAAAAAAAAAAAAAAAAAAAAAAAAAAAAAAAAAAAAAAAAAAAAAAAAAAAAAAAAAAAAAAAAAAAAAAAJT0FltcuoD4=\",\"dtype\":\"float64\",\"shape\":[100]}},\"selected\":{\"id\":\"c8ce6f94-088c-46c7-9939-c2dcd4dbb760\",\"type\":\"Selection\"},\"selection_policy\":{\"id\":\"c8862c5e-ee54-470d-816b-717eb5b68ea6\",\"type\":\"UnionRenderers\"}},\"id\":\"70bc93e8-0075-4b06-bc4c-a3bc00558899\",\"type\":\"ColumnDataSource\"},{\"attributes\":{\"formatter\":{\"id\":\"41ca1f82-ed8d-4f8c-bde9-bc0ee446ee11\",\"type\":\"BasicTickFormatter\"},\"plot\":{\"id\":\"a4b5b433-7ccc-4bd5-bde5-fa7e63e27a2e\",\"subtype\":\"Figure\",\"type\":\"Plot\"},\"ticker\":{\"id\":\"9c64dd77-04b6-4de7-9f13-3c1ba1709b95\",\"type\":\"BasicTicker\"}},\"id\":\"d1556d7c-a10e-444c-b304-75b2c0a29ec3\",\"type\":\"LinearAxis\"}],\"root_ids\":[\"a4b5b433-7ccc-4bd5-bde5-fa7e63e27a2e\"]},\"title\":\"Bokeh Application\",\"version\":\"0.13.0\"}};\n",
       "  var render_items = [{\"docid\":\"98cd30c2-9d81-44e7-a066-18c48b986b91\",\"roots\":{\"a4b5b433-7ccc-4bd5-bde5-fa7e63e27a2e\":\"e8a0034e-13e8-41e5-8a2c-0483a68eeaae\"}}];\n",
       "  root.Bokeh.embed.embed_items_notebook(docs_json, render_items);\n",
       "\n",
       "  }\n",
       "  if (root.Bokeh !== undefined) {\n",
       "    embed_document(root);\n",
       "  } else {\n",
       "    var attempts = 0;\n",
       "    var timer = setInterval(function(root) {\n",
       "      if (root.Bokeh !== undefined) {\n",
       "        embed_document(root);\n",
       "        clearInterval(timer);\n",
       "      }\n",
       "      attempts++;\n",
       "      if (attempts > 100) {\n",
       "        console.log(\"Bokeh: ERROR: Unable to run BokehJS code because BokehJS library is missing\")\n",
       "        clearInterval(timer);\n",
       "      }\n",
       "    }, 10, root)\n",
       "  }\n",
       "})(window);"
      ],
      "application/vnd.bokehjs_exec.v0+json": ""
     },
     "metadata": {
      "application/vnd.bokehjs_exec.v0+json": {
       "id": "a4b5b433-7ccc-4bd5-bde5-fa7e63e27a2e"
      }
     },
     "output_type": "display_data"
    }
   ],
   "source": [
    "hist, edges = np.histogram(counts_ted_top1000, density=True, bins=100, normed=True)\n",
    "\n",
    "p = figure(tools=\"pan,wheel_zoom,reset,save\",\n",
    "           toolbar_location=\"above\",\n",
    "           title=\"Top-1000 words distribution\")\n",
    "p.quad(top=hist, bottom=0, left=edges[:-1], right=edges[1:], line_color=\"#555555\")\n",
    "show(p)"
   ]
  },
  {
   "cell_type": "markdown",
   "metadata": {},
   "source": [
    "### Part 3: Train Word2Vec"
   ]
  },
  {
   "cell_type": "code",
   "execution_count": 21,
   "metadata": {},
   "outputs": [],
   "source": [
    "from gensim.models import Word2Vec"
   ]
  },
  {
   "cell_type": "code",
   "execution_count": 51,
   "metadata": {},
   "outputs": [],
   "source": [
    "# ...\n",
    "model_ted = Word2Vec(sentences_ted, min_count=1)"
   ]
  },
  {
   "cell_type": "markdown",
   "metadata": {},
   "source": [
    "### Part 4: Ted Learnt Representations"
   ]
  },
  {
   "cell_type": "markdown",
   "metadata": {},
   "source": [
    "Finding similar words: (see gensim docs for more functionality of `most_similar`)"
   ]
  },
  {
   "cell_type": "code",
   "execution_count": 52,
   "metadata": {},
   "outputs": [
    {
     "name": "stderr",
     "output_type": "stream",
     "text": [
      "/usr/local/lib/python3.5/dist-packages/ipykernel_launcher.py:1: DeprecationWarning: Call to deprecated `most_similar` (Method will be removed in 4.0.0, use self.wv.most_similar() instead).\n",
      "  \"\"\"Entry point for launching an IPython kernel.\n",
      "/usr/local/lib/python3.5/dist-packages/gensim/matutils.py:737: FutureWarning: Conversion of the second argument of issubdtype from `int` to `np.signedinteger` is deprecated. In future, it will be treated as `np.int64 == np.dtype(int).type`.\n",
      "  if np.issubdtype(vec.dtype, np.int):\n"
     ]
    },
    {
     "data": {
      "text/plain": [
       "[('woman', 0.8704794645309448),\n",
       " ('guy', 0.8228529691696167),\n",
       " ('boy', 0.7752574682235718),\n",
       " ('girl', 0.7742801904678345),\n",
       " ('lady', 0.7693055868148804),\n",
       " ('gentleman', 0.733651876449585),\n",
       " ('kid', 0.7077285051345825),\n",
       " ('soldier', 0.6904206275939941),\n",
       " ('friend', 0.6829222440719604),\n",
       " ('writer', 0.6731217503547668)]"
      ]
     },
     "execution_count": 52,
     "metadata": {},
     "output_type": "execute_result"
    }
   ],
   "source": [
    "model_ted.most_similar(\"man\")"
   ]
  },
  {
   "cell_type": "code",
   "execution_count": 53,
   "metadata": {},
   "outputs": [
    {
     "name": "stderr",
     "output_type": "stream",
     "text": [
      "/usr/local/lib/python3.5/dist-packages/ipykernel_launcher.py:1: DeprecationWarning: Call to deprecated `most_similar` (Method will be removed in 4.0.0, use self.wv.most_similar() instead).\n",
      "  \"\"\"Entry point for launching an IPython kernel.\n",
      "/usr/local/lib/python3.5/dist-packages/gensim/matutils.py:737: FutureWarning: Conversion of the second argument of issubdtype from `int` to `np.signedinteger` is deprecated. In future, it will be treated as `np.int64 == np.dtype(int).type`.\n",
      "  if np.issubdtype(vec.dtype, np.int):\n"
     ]
    },
    {
     "data": {
      "text/plain": [
       "[('machine', 0.7557276487350464),\n",
       " ('software', 0.743337094783783),\n",
       " ('device', 0.7233927249908447),\n",
       " ('robot', 0.7218105792999268),\n",
       " ('program', 0.7095746397972107),\n",
       " ('code', 0.6696215271949768),\n",
       " ('simulation', 0.6685115098953247),\n",
       " ('camera', 0.6625403165817261),\n",
       " ('video', 0.660799503326416),\n",
       " ('3d', 0.6588795781135559)]"
      ]
     },
     "execution_count": 53,
     "metadata": {},
     "output_type": "execute_result"
    }
   ],
   "source": [
    "model_ted.most_similar(\"computer\")"
   ]
  },
  {
   "cell_type": "code",
   "execution_count": null,
   "metadata": {
    "collapsed": true
   },
   "outputs": [],
   "source": [
    "# ..."
   ]
  },
  {
   "cell_type": "markdown",
   "metadata": {},
   "source": [
    "#### t-SNE visualization\n",
    "To use the t-SNE code below, first put a list of the top 1000 words (as strings) into a variable `words_top_ted`. The following code gets the corresponding vectors from the model, assuming it's called `model_ted`:"
   ]
  },
  {
   "cell_type": "code",
   "execution_count": 54,
   "metadata": {},
   "outputs": [
    {
     "name": "stderr",
     "output_type": "stream",
     "text": [
      "/usr/local/lib/python3.5/dist-packages/ipykernel_launcher.py:2: DeprecationWarning: Call to deprecated `__getitem__` (Method will be removed in 4.0.0, use self.wv.__getitem__() instead).\n",
      "  \n"
     ]
    }
   ],
   "source": [
    "# This assumes words_top_ted is a list of strings, the top 1000 words\n",
    "words_top_vec_ted = model_ted[words_top_ted]"
   ]
  },
  {
   "cell_type": "code",
   "execution_count": 55,
   "metadata": {},
   "outputs": [],
   "source": [
    "from sklearn.manifold import TSNE\n",
    "tsne = TSNE(n_components=2, random_state=0)\n",
    "words_top_ted_tsne = tsne.fit_transform(words_top_vec_ted)"
   ]
  },
  {
   "cell_type": "code",
   "execution_count": 56,
   "metadata": {},
   "outputs": [
    {
     "data": {
      "text/html": [
       "\n",
       "\n",
       "\n",
       "\n",
       "\n",
       "\n",
       "  <div class=\"bk-root\" id=\"fbccc0cd-054e-4f8a-889f-a748b739892a\"></div>\n"
      ]
     },
     "metadata": {},
     "output_type": "display_data"
    },
    {
     "data": {
      "application/javascript": [
       "(function(root) {\n",
       "  function embed_document(root) {\n",
       "    \n",
       "  var docs_json = {\"c52cd7f2-269c-4a3f-b588-b2e01e572ab7\":{\"roots\":{\"references\":[{\"attributes\":{\"formatter\":{\"id\":\"11a24969-fbef-4713-96e1-0be95c1a2637\",\"type\":\"BasicTickFormatter\"},\"plot\":{\"id\":\"f4e2aeae-c8a2-4849-b16e-7ff55fe66857\",\"subtype\":\"Figure\",\"type\":\"Plot\"},\"ticker\":{\"id\":\"b9b41847-8567-4328-9be8-c6c5e22a167a\",\"type\":\"BasicTicker\"}},\"id\":\"311ffd8b-814b-4ed0-92fc-33a868e975e7\",\"type\":\"LinearAxis\"},{\"attributes\":{\"below\":[{\"id\":\"311ffd8b-814b-4ed0-92fc-33a868e975e7\",\"type\":\"LinearAxis\"}],\"left\":[{\"id\":\"aa36e86b-e54b-43d2-9570-d78bc0b45279\",\"type\":\"LinearAxis\"}],\"renderers\":[{\"id\":\"311ffd8b-814b-4ed0-92fc-33a868e975e7\",\"type\":\"LinearAxis\"},{\"id\":\"6c9a3d2a-9643-4855-a046-f42fb55c9588\",\"type\":\"Grid\"},{\"id\":\"aa36e86b-e54b-43d2-9570-d78bc0b45279\",\"type\":\"LinearAxis\"},{\"id\":\"3ced6060-17a9-4cdd-8a37-504deea27fe4\",\"type\":\"Grid\"},{\"id\":\"3e6f4732-1b66-49ba-ab96-f6b3db44262e\",\"type\":\"GlyphRenderer\"},{\"id\":\"b7b81200-3e3b-4735-86ca-9a1fca0f0596\",\"type\":\"LabelSet\"}],\"title\":{\"id\":\"c59879eb-db4e-4f5c-acf1-8b4378feb0bd\",\"type\":\"Title\"},\"toolbar\":{\"id\":\"f06ca4ee-1264-443e-a525-999c9f806dc6\",\"type\":\"Toolbar\"},\"toolbar_location\":\"above\",\"x_range\":{\"id\":\"9db2f5ed-4b01-4abb-93e5-94ab566e4c75\",\"type\":\"DataRange1d\"},\"x_scale\":{\"id\":\"69061dd9-06d9-491f-9ffc-7d43a3539d9a\",\"type\":\"LinearScale\"},\"y_range\":{\"id\":\"cd1e7fcc-f71b-4b0e-9627-1708910a404f\",\"type\":\"DataRange1d\"},\"y_scale\":{\"id\":\"2344771d-016e-46ba-b007-954cef4edbec\",\"type\":\"LinearScale\"}},\"id\":\"f4e2aeae-c8a2-4849-b16e-7ff55fe66857\",\"subtype\":\"Figure\",\"type\":\"Plot\"},{\"attributes\":{\"plot\":null,\"text\":\"word2vec T-SNE for most common words\"},\"id\":\"c59879eb-db4e-4f5c-acf1-8b4378feb0bd\",\"type\":\"Title\"},{\"attributes\":{},\"id\":\"ca9556e1-7b26-43b4-99ea-5b44d688d946\",\"type\":\"UnionRenderers\"},{\"attributes\":{\"active_drag\":\"auto\",\"active_inspect\":\"auto\",\"active_multi\":null,\"active_scroll\":\"auto\",\"active_tap\":\"auto\",\"tools\":[{\"id\":\"a15fc432-349e-4304-b667-80eabca1d90e\",\"type\":\"PanTool\"},{\"id\":\"05dd029e-aea4-40bd-9f35-fefdfb11cdad\",\"type\":\"WheelZoomTool\"},{\"id\":\"21af6cf1-c223-4a31-b375-b9557a10412f\",\"type\":\"ResetTool\"},{\"id\":\"171ca7e6-d771-4a36-9e75-5158013404d6\",\"type\":\"SaveTool\"}]},\"id\":\"f06ca4ee-1264-443e-a525-999c9f806dc6\",\"type\":\"Toolbar\"},{\"attributes\":{\"plot\":{\"id\":\"f4e2aeae-c8a2-4849-b16e-7ff55fe66857\",\"subtype\":\"Figure\",\"type\":\"Plot\"},\"source\":{\"id\":\"0f46e60b-e65c-44d3-9c70-fd6e3e2c5137\",\"type\":\"ColumnDataSource\"},\"text\":{\"field\":\"names\"},\"text_align\":\"center\",\"text_color\":{\"value\":\"#555555\"},\"text_font_size\":{\"value\":\"8pt\"},\"x\":{\"field\":\"x1\"},\"y\":{\"field\":\"x2\"},\"y_offset\":{\"value\":6}},\"id\":\"b7b81200-3e3b-4735-86ca-9a1fca0f0596\",\"type\":\"LabelSet\"},{\"attributes\":{\"callback\":null,\"data\":{\"names\":[\"the\",\"and\",\"to\",\"of\",\"a\",\"that\",\"i\",\"in\",\"it\",\"you\",\"we\",\"is\",\"s\",\"this\",\"so\",\"they\",\"was\",\"for\",\"are\",\"have\",\"but\",\"what\",\"on\",\"with\",\"can\",\"t\",\"about\",\"there\",\"be\",\"as\",\"at\",\"all\",\"not\",\"do\",\"my\",\"one\",\"re\",\"people\",\"like\",\"if\",\"from\",\"now\",\"our\",\"he\",\"an\",\"just\",\"these\",\"or\",\"when\",\"because\",\"very\",\"me\",\"out\",\"by\",\"them\",\"how\",\"know\",\"up\",\"going\",\"had\",\"more\",\"think\",\"who\",\"were\",\"see\",\"your\",\"their\",\"which\",\"would\",\"here\",\"really\",\"get\",\"ve\",\"then\",\"m\",\"world\",\"us\",\"time\",\"some\",\"has\",\"don\",\"actually\",\"into\",\"way\",\"where\",\"will\",\"years\",\"things\",\"other\",\"no\",\"could\",\"go\",\"well\",\"want\",\"been\",\"make\",\"right\",\"she\",\"said\",\"something\",\"those\",\"first\",\"two\",\"than\",\"much\",\"also\",\"look\",\"new\",\"thing\",\"little\",\"got\",\"back\",\"over\",\"most\",\"say\",\"even\",\"his\",\"life\",\"only\",\"work\",\"many\",\"take\",\"need\",\"did\",\"lot\",\"kind\",\"why\",\"good\",\"around\",\"every\",\"different\",\"down\",\"ll\",\"let\",\"her\",\"through\",\"same\",\"being\",\"come\",\"d\",\"day\",\"year\",\"three\",\"use\",\"doing\",\"put\",\"called\",\"any\",\"today\",\"percent\",\"made\",\"after\",\"thank\",\"tell\",\"great\",\"human\",\"find\",\"didn\",\"fact\",\"talk\",\"change\",\"started\",\"another\",\"idea\",\"big\",\"last\",\"own\",\"before\",\"its\",\"never\",\"should\",\"better\",\"give\",\"thought\",\"went\",\"might\",\"important\",\"000\",\"again\",\"together\",\"able\",\"still\",\"problem\",\"off\",\"next\",\"part\",\"course\",\"system\",\"him\",\"does\",\"each\",\"start\",\"show\",\"long\",\"ago\",\"story\",\"came\",\"brain\",\"few\",\"bit\",\"between\",\"used\",\"place\",\"technology\",\"women\",\"too\",\"old\",\"mean\",\"data\",\"water\",\"looking\",\"question\",\"maybe\",\"found\",\"love\",\"doesn\",\"end\",\"example\",\"10\",\"done\",\"point\",\"four\",\"real\",\"wanted\",\"ever\",\"understand\",\"school\",\"sort\",\"live\",\"call\",\"whole\",\"always\",\"children\",\"trying\",\"may\",\"person\",\"away\",\"believe\",\"feel\",\"try\",\"million\",\"working\",\"help\",\"everything\",\"five\",\"country\",\"thinking\",\"second\",\"using\",\"information\",\"money\",\"means\",\"took\",\"power\",\"times\",\"high\",\"space\",\"number\",\"kids\",\"home\",\"become\",\"create\",\"small\",\"design\",\"making\",\"best\",\"left\",\"getting\",\"future\",\"enough\",\"man\",\"quite\",\"city\",\"without\",\"sense\",\"happened\",\"comes\",\"social\",\"probably\",\"light\",\"less\",\"energy\",\"talking\",\"am\",\"building\",\"science\",\"food\",\"body\",\"told\",\"interesting\",\"half\",\"ask\",\"pretty\",\"hard\",\"play\",\"anything\",\"lives\",\"countries\",\"such\",\"coming\",\"family\",\"stuff\",\"dollars\",\"moment\",\"earth\",\"20\",\"imagine\",\"across\",\"side\",\"while\",\"saw\",\"happen\",\"once\",\"okay\",\"build\",\"having\",\"men\",\"later\",\"experience\",\"asked\",\"makes\",\"living\",\"seen\",\"says\",\"room\",\"hand\",\"simple\",\"health\",\"ways\",\"else\",\"case\",\"almost\",\"yet\",\"young\",\"days\",\"nothing\",\"bad\",\"care\",\"happens\",\"goes\",\"move\",\"states\",\"reason\",\"computer\",\"open\",\"learn\",\"africa\",\"process\",\"inside\",\"someone\",\"six\",\"far\",\"project\",\"mind\",\"remember\",\"single\",\"picture\",\"both\",\"whether\",\"problems\",\"community\",\"saying\",\"basically\",\"already\",\"within\",\"looked\",\"myself\",\"billion\",\"often\",\"possible\",\"business\",\"planet\",\"global\",\"everybody\",\"top\",\"public\",\"sure\",\"set\",\"wrong\",\"book\",\"car\",\"keep\",\"answer\",\"yes\",\"oh\",\"sometimes\",\"hope\",\"true\",\"history\",\"war\",\"child\",\"guy\",\"instead\",\"months\",\"ideas\",\"looks\",\"matter\",\"government\",\"amazing\",\"united\",\"since\",\"age\",\"cells\",\"bring\",\"job\",\"heard\",\"until\",\"face\",\"wasn\",\"100\",\"read\",\"control\",\"isn\",\"research\",\"30\",\"words\",\"u\",\"group\",\"under\",\"self\",\"somebody\",\"built\",\"state\",\"woman\",\"turn\",\"friends\",\"beautiful\",\"line\",\"knew\",\"couple\",\"order\",\"form\",\"yeah\",\"internet\",\"middle\",\"music\",\"piece\",\"nature\",\"head\",\"though\",\"stop\",\"everyone\",\"50\",\"places\",\"video\",\"language\",\"learned\",\"run\",\"night\",\"decided\",\"word\",\"study\",\"cancer\",\"taking\",\"works\",\"became\",\"exactly\",\"species\",\"society\",\"completely\",\"education\",\"against\",\"stories\",\"large\",\"share\",\"level\",\"heart\",\"america\",\"model\",\"gets\",\"questions\",\"mother\",\"god\",\"company\",\"turns\",\"ourselves\",\"happening\",\"art\",\"hear\",\"themselves\",\"must\",\"itself\",\"rather\",\"kinds\",\"students\",\"name\",\"hours\",\"disease\",\"front\",\"house\",\"huge\",\"couldn\",\"created\",\"universe\",\"ok\",\"animals\",\"american\",\"environment\",\"worked\",\"minutes\",\"ones\",\"black\",\"1\",\"perhaps\",\"past\",\"third\",\"along\",\"finally\",\"others\",\"sound\",\"early\",\"game\",\"thousands\",\"century\",\"least\",\"based\",\"per\",\"ted\",\"lots\",\"figure\",\"free\",\"particular\",\"guys\",\"happy\",\"news\",\"learning\",\"entire\",\"won\",\"gave\",\"machine\",\"india\",\"during\",\"systems\",\"air\",\"difference\",\"outside\",\"natural\",\"taken\",\"seven\",\"given\",\"changed\",\"leave\",\"cell\",\"15\",\"close\",\"behind\",\"cities\",\"full\",\"scale\",\"difficult\",\"china\",\"takes\",\"companies\",\"yourself\",\"area\",\"reality\",\"seeing\",\"easy\",\"turned\",\"cost\",\"eyes\",\"moving\",\"team\",\"population\",\"culture\",\"york\",\"hands\",\"whatever\",\"began\",\"needs\",\"terms\",\"image\",\"needed\",\"simply\",\"beginning\",\"father\",\"local\",\"realized\",\"media\",\"death\",\"parents\",\"walk\",\"view\",\"white\",\"market\",\"parts\",\"ocean\",\"economic\",\"eight\",\"powerful\",\"known\",\"week\",\"size\",\"felt\",\"humans\",\"certain\",\"spend\",\"longer\",\"phone\",\"wonderful\",\"cannot\",\"common\",\"grow\",\"tried\",\"center\",\"fish\",\"land\",\"oil\",\"interested\",\"political\",\"deal\",\"red\",\"gone\",\"amount\",\"weeks\",\"opportunity\",\"spent\",\"paper\",\"lost\",\"quickly\",\"national\",\"blue\",\"step\",\"poor\",\"green\",\"buy\",\"wouldn\",\"growth\",\"either\",\"patients\",\"sitting\",\"ability\",\"changes\",\"write\",\"south\",\"challenge\",\"low\",\"growing\",\"friend\",\"field\",\"2\",\"shows\",\"born\",\"rest\",\"climate\",\"40\",\"test\",\"street\",\"incredible\",\"surface\",\"average\",\"pay\",\"physical\",\"program\",\"scientists\",\"morning\",\"value\",\"hundreds\",\"feeling\",\"girl\",\"behavior\",\"met\",\"economy\",\"dna\",\"complex\",\"access\",\"risk\",\"animal\",\"structure\",\"feet\",\"attention\",\"anyone\",\"areas\",\"deep\",\"watch\",\"short\",\"absolutely\",\"speak\",\"brought\",\"die\",\"bottom\",\"audience\",\"numbers\",\"stage\",\"realize\",\"law\",\"images\",\"wrote\",\"understanding\",\"books\",\"knowledge\",\"literally\",\"movement\",\"ground\",\"giving\",\"eat\",\"force\",\"seems\",\"alone\",\"telling\",\"hold\",\"starting\",\"nice\",\"sea\",\"forward\",\"developed\",\"kid\",\"individual\",\"millions\",\"support\",\"running\",\"miles\",\"tools\",\"online\",\"result\",\"medical\",\"act\",\"technologies\",\"north\",\"development\",\"lab\",\"blood\",\"fear\",\"map\",\"nobody\",\"personal\",\"issue\",\"voice\",\"material\",\"key\",\"12\",\"recently\",\"theory\",\"cut\",\"cars\",\"sun\",\"fast\",\"changing\",\"clear\",\"playing\",\"especially\",\"patient\",\"soon\",\"girls\",\"choice\",\"fly\",\"creating\",\"discovered\",\"normal\",\"talked\",\"europe\",\"relationship\",\"gives\",\"generation\",\"dark\",\"showed\",\"type\",\"chance\",\"industry\",\"seem\",\"asking\",\"rate\",\"issues\",\"hour\",\"designed\",\"color\",\"fun\",\"innovation\",\"computers\",\"several\",\"university\",\"class\",\"english\",\"tiny\",\"save\",\"allow\",\"focus\",\"developing\",\"digital\",\"solve\",\"network\",\"film\",\"special\",\"wall\",\"situation\",\"baby\",\"solution\",\"knows\",\"box\",\"reasons\",\"dead\",\"meet\",\"stand\",\"anybody\",\"impact\",\"haven\",\"begin\",\"term\",\"beyond\",\"pictures\",\"please\",\"produce\",\"ice\",\"shape\",\"non\",\"robot\",\"cool\",\"resources\",\"groups\",\"likely\",\"stay\",\"rights\",\"available\",\"major\",\"truth\",\"experiment\",\"obviously\",\"cause\",\"writing\",\"evidence\",\"drug\",\"modern\",\"becomes\",\"incredibly\",\"guess\",\"aren\",\"bigger\",\"product\",\"nine\",\"drugs\",\"lived\",\"involved\",\"month\",\"google\",\"perfect\",\"similar\",\"putting\",\"effect\",\"pick\",\"eye\",\"message\",\"web\",\"quality\",\"violence\",\"office\",\"security\",\"evolution\",\"basic\",\"solar\",\"indeed\",\"general\",\"towards\",\"drive\",\"present\",\"listen\",\"send\",\"worth\",\"revolution\",\"hundred\",\"explain\",\"died\",\"certainly\",\"teach\",\"ready\",\"25\",\"journey\",\"hit\",\"walking\",\"led\",\"international\",\"approach\",\"200\",\"games\",\"scientific\",\"crazy\",\"chinese\",\"communities\",\"potential\",\"60\",\"device\",\"camera\",\"source\",\"carbon\",\"sex\",\"rules\",\"sounds\",\"boy\",\"reach\",\"starts\",\"west\",\"examples\",\"3\",\"success\",\"software\",\"particularly\",\"measure\",\"totally\",\"suddenly\",\"action\",\"college\",\"higher\",\"code\",\"eventually\",\"democracy\",\"minute\",\"sit\",\"among\",\"largest\",\"hospital\",\"showing\",\"notice\",\"period\",\"mass\",\"develop\",\"onto\",\"dream\",\"add\",\"plants\",\"break\",\"memory\",\"everywhere\",\"zero\",\"11\",\"favorite\",\"moved\",\"response\",\"speed\",\"schools\",\"wants\",\"extremely\",\"individuals\",\"movie\",\"table\",\"wait\",\"trust\",\"anyway\",\"medicine\",\"follow\",\"plant\",\"biggest\",\"organization\",\"watching\",\"creative\",\"road\",\"choose\",\"worse\",\"results\",\"lead\",\"500\",\"exciting\",\"materials\",\"grew\",\"jobs\",\"poverty\",\"positive\",\"plan\",\"east\",\"fall\",\"strong\",\"safe\",\"essentially\",\"object\",\"door\",\"son\",\"vision\",\"continue\",\"happiness\",\"further\",\"student\",\"doctor\",\"named\",\"objects\",\"including\",\"role\",\"extraordinary\",\"standing\",\"skin\",\"conversation\",\"african\",\"projects\",\"leaders\",\"usually\",\"models\",\"allowed\",\"supposed\",\"interest\",\"faster\",\"police\",\"families\",\"fight\",\"connected\",\"tree\",\"5\",\"screen\",\"cases\",\"goal\",\"somewhere\",\"buildings\",\"finding\",\"shown\"],\"x1\":{\"__ndarray__\":\"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\",\"dtype\":\"float32\",\"shape\":[1000]},\"x2\":{\"__ndarray__\":\"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\",\"dtype\":\"float32\",\"shape\":[1000]}},\"selected\":{\"id\":\"f4b876a2-d074-479a-8af6-4680b95bbbf9\",\"type\":\"Selection\"},\"selection_policy\":{\"id\":\"ca9556e1-7b26-43b4-99ea-5b44d688d946\",\"type\":\"UnionRenderers\"}},\"id\":\"0f46e60b-e65c-44d3-9c70-fd6e3e2c5137\",\"type\":\"ColumnDataSource\"},{\"attributes\":{\"callback\":null},\"id\":\"cd1e7fcc-f71b-4b0e-9627-1708910a404f\",\"type\":\"DataRange1d\"},{\"attributes\":{},\"id\":\"2344771d-016e-46ba-b007-954cef4edbec\",\"type\":\"LinearScale\"},{\"attributes\":{\"fill_alpha\":{\"value\":0.1},\"fill_color\":{\"value\":\"#1f77b4\"},\"line_alpha\":{\"value\":0.1},\"line_color\":{\"value\":\"#1f77b4\"},\"size\":{\"units\":\"screen\",\"value\":8},\"x\":{\"field\":\"x1\"},\"y\":{\"field\":\"x2\"}},\"id\":\"3076d3c1-6c1f-4141-bcc3-4864fb95b94b\",\"type\":\"Circle\"},{\"attributes\":{},\"id\":\"b9b41847-8567-4328-9be8-c6c5e22a167a\",\"type\":\"BasicTicker\"},{\"attributes\":{},\"id\":\"69061dd9-06d9-491f-9ffc-7d43a3539d9a\",\"type\":\"LinearScale\"},{\"attributes\":{},\"id\":\"11a24969-fbef-4713-96e1-0be95c1a2637\",\"type\":\"BasicTickFormatter\"},{\"attributes\":{\"data_source\":{\"id\":\"0f46e60b-e65c-44d3-9c70-fd6e3e2c5137\",\"type\":\"ColumnDataSource\"},\"glyph\":{\"id\":\"7ba87bd3-e048-4ab8-8e01-f572bcad6ab3\",\"type\":\"Circle\"},\"hover_glyph\":null,\"muted_glyph\":null,\"nonselection_glyph\":{\"id\":\"3076d3c1-6c1f-4141-bcc3-4864fb95b94b\",\"type\":\"Circle\"},\"selection_glyph\":null,\"view\":{\"id\":\"3f05b3b1-5a48-4821-9220-de6570420936\",\"type\":\"CDSView\"}},\"id\":\"3e6f4732-1b66-49ba-ab96-f6b3db44262e\",\"type\":\"GlyphRenderer\"},{\"attributes\":{\"callback\":null},\"id\":\"9db2f5ed-4b01-4abb-93e5-94ab566e4c75\",\"type\":\"DataRange1d\"},{\"attributes\":{\"dimension\":1,\"plot\":{\"id\":\"f4e2aeae-c8a2-4849-b16e-7ff55fe66857\",\"subtype\":\"Figure\",\"type\":\"Plot\"},\"ticker\":{\"id\":\"1bea5838-65dd-4274-872e-d05176fcf653\",\"type\":\"BasicTicker\"}},\"id\":\"3ced6060-17a9-4cdd-8a37-504deea27fe4\",\"type\":\"Grid\"},{\"attributes\":{},\"id\":\"05dd029e-aea4-40bd-9f35-fefdfb11cdad\",\"type\":\"WheelZoomTool\"},{\"attributes\":{},\"id\":\"f4b876a2-d074-479a-8af6-4680b95bbbf9\",\"type\":\"Selection\"},{\"attributes\":{},\"id\":\"1bea5838-65dd-4274-872e-d05176fcf653\",\"type\":\"BasicTicker\"},{\"attributes\":{\"plot\":{\"id\":\"f4e2aeae-c8a2-4849-b16e-7ff55fe66857\",\"subtype\":\"Figure\",\"type\":\"Plot\"},\"ticker\":{\"id\":\"b9b41847-8567-4328-9be8-c6c5e22a167a\",\"type\":\"BasicTicker\"}},\"id\":\"6c9a3d2a-9643-4855-a046-f42fb55c9588\",\"type\":\"Grid\"},{\"attributes\":{},\"id\":\"a15fc432-349e-4304-b667-80eabca1d90e\",\"type\":\"PanTool\"},{\"attributes\":{\"fill_color\":{\"value\":\"#1f77b4\"},\"line_color\":{\"value\":\"#1f77b4\"},\"size\":{\"units\":\"screen\",\"value\":8},\"x\":{\"field\":\"x1\"},\"y\":{\"field\":\"x2\"}},\"id\":\"7ba87bd3-e048-4ab8-8e01-f572bcad6ab3\",\"type\":\"Circle\"},{\"attributes\":{\"formatter\":{\"id\":\"296608ef-9c3f-4740-a708-e3beccc02d5c\",\"type\":\"BasicTickFormatter\"},\"plot\":{\"id\":\"f4e2aeae-c8a2-4849-b16e-7ff55fe66857\",\"subtype\":\"Figure\",\"type\":\"Plot\"},\"ticker\":{\"id\":\"1bea5838-65dd-4274-872e-d05176fcf653\",\"type\":\"BasicTicker\"}},\"id\":\"aa36e86b-e54b-43d2-9570-d78bc0b45279\",\"type\":\"LinearAxis\"},{\"attributes\":{},\"id\":\"171ca7e6-d771-4a36-9e75-5158013404d6\",\"type\":\"SaveTool\"},{\"attributes\":{},\"id\":\"21af6cf1-c223-4a31-b375-b9557a10412f\",\"type\":\"ResetTool\"},{\"attributes\":{},\"id\":\"296608ef-9c3f-4740-a708-e3beccc02d5c\",\"type\":\"BasicTickFormatter\"},{\"attributes\":{\"source\":{\"id\":\"0f46e60b-e65c-44d3-9c70-fd6e3e2c5137\",\"type\":\"ColumnDataSource\"}},\"id\":\"3f05b3b1-5a48-4821-9220-de6570420936\",\"type\":\"CDSView\"}],\"root_ids\":[\"f4e2aeae-c8a2-4849-b16e-7ff55fe66857\"]},\"title\":\"Bokeh Application\",\"version\":\"0.13.0\"}};\n",
       "  var render_items = [{\"docid\":\"c52cd7f2-269c-4a3f-b588-b2e01e572ab7\",\"roots\":{\"f4e2aeae-c8a2-4849-b16e-7ff55fe66857\":\"fbccc0cd-054e-4f8a-889f-a748b739892a\"}}];\n",
       "  root.Bokeh.embed.embed_items_notebook(docs_json, render_items);\n",
       "\n",
       "  }\n",
       "  if (root.Bokeh !== undefined) {\n",
       "    embed_document(root);\n",
       "  } else {\n",
       "    var attempts = 0;\n",
       "    var timer = setInterval(function(root) {\n",
       "      if (root.Bokeh !== undefined) {\n",
       "        embed_document(root);\n",
       "        clearInterval(timer);\n",
       "      }\n",
       "      attempts++;\n",
       "      if (attempts > 100) {\n",
       "        console.log(\"Bokeh: ERROR: Unable to run BokehJS code because BokehJS library is missing\")\n",
       "        clearInterval(timer);\n",
       "      }\n",
       "    }, 10, root)\n",
       "  }\n",
       "})(window);"
      ],
      "application/vnd.bokehjs_exec.v0+json": ""
     },
     "metadata": {
      "application/vnd.bokehjs_exec.v0+json": {
       "id": "f4e2aeae-c8a2-4849-b16e-7ff55fe66857"
      }
     },
     "output_type": "display_data"
    }
   ],
   "source": [
    "p = figure(tools=\"pan,wheel_zoom,reset,save\",\n",
    "           toolbar_location=\"above\",\n",
    "           title=\"word2vec T-SNE for most common words\")\n",
    "\n",
    "source = ColumnDataSource(data=dict(x1=words_top_ted_tsne[:,0],\n",
    "                                    x2=words_top_ted_tsne[:,1],\n",
    "                                    names=words_top_ted))\n",
    "\n",
    "p.scatter(x=\"x1\", y=\"x2\", size=8, source=source)\n",
    "\n",
    "labels = LabelSet(x=\"x1\", y=\"x2\", text=\"names\", y_offset=6,\n",
    "                  text_font_size=\"8pt\", text_color=\"#555555\",\n",
    "                  source=source, text_align='center')\n",
    "p.add_layout(labels)\n",
    "\n",
    "show(p)"
   ]
  },
  {
   "cell_type": "markdown",
   "metadata": {},
   "source": [
    "### Part 5: Wiki Learnt Representations"
   ]
  },
  {
   "cell_type": "markdown",
   "metadata": {},
   "source": [
    "Download dataset"
   ]
  },
  {
   "cell_type": "code",
   "execution_count": null,
   "metadata": {
    "collapsed": true
   },
   "outputs": [],
   "source": [
    "if not os.path.isfile('wikitext-103-raw-v1.zip'):\n",
    "    urllib.request.urlretrieve(\"https://s3.amazonaws.com/research.metamind.io/wikitext/wikitext-103-raw-v1.zip\", filename=\"wikitext-103-raw-v1.zip\")"
   ]
  },
  {
   "cell_type": "code",
   "execution_count": null,
   "metadata": {},
   "outputs": [],
   "source": [
    "with zipfile.ZipFile('wikitext-103-raw-v1.zip', 'r') as z:\n",
    "    input_text = str(z.open('wikitext-103-raw/wiki.train.raw', 'r').read(), encoding='utf-8') # Thanks Robert Bastian"
   ]
  },
  {
   "cell_type": "markdown",
   "metadata": {},
   "source": [
    "Preprocess sentences (note that it's important to remove small sentences for performance)"
   ]
  },
  {
   "cell_type": "code",
   "execution_count": null,
   "metadata": {},
   "outputs": [],
   "source": [
    "sentences_wiki = []\n",
    "for line in input_text.split('\\n'):\n",
    "    s = [x for x in line.split('.') if x and len(x.split()) >= 5]\n",
    "    sentences_wiki.extend(s)\n",
    "    \n",
    "for s_i in range(len(sentences_wiki)):\n",
    "    sentences_wiki[s_i] = re.sub(\"[^a-z]\", \" \", sentences_wiki[s_i].lower())\n",
    "    sentences_wiki[s_i] = re.sub(r'\\([^)]*\\)', '', sentences_wiki[s_i])\n",
    "del input_text"
   ]
  },
  {
   "cell_type": "code",
   "execution_count": null,
   "metadata": {},
   "outputs": [],
   "source": [
    "# sample 1/5 of the data\n",
    "shuffle(sentences_wiki)\n",
    "print(len(sentences_wiki))\n",
    "sentences_wiki = sentences_wiki[:int(len(sentences_wiki)/5)]\n",
    "print(len(sentences_wiki))"
   ]
  },
  {
   "cell_type": "markdown",
   "metadata": {},
   "source": [
    "Now, repeat all the same steps that you performed above. You should be able to reuse essentially all the code."
   ]
  },
  {
   "cell_type": "code",
   "execution_count": null,
   "metadata": {
    "collapsed": true
   },
   "outputs": [],
   "source": [
    "# ..."
   ]
  },
  {
   "cell_type": "markdown",
   "metadata": {},
   "source": [
    "#### t-SNE visualization"
   ]
  },
  {
   "cell_type": "code",
   "execution_count": null,
   "metadata": {
    "collapsed": true
   },
   "outputs": [],
   "source": [
    "# This assumes words_top_wiki is a list of strings, the top 1000 words\n",
    "words_top_vec_wiki = model_wiki[words_top_wiki]\n",
    "\n",
    "tsne = TSNE(n_components=2, random_state=0)\n",
    "words_top_wiki_tsne = tsne.fit_transform(words_top_vec_wiki)"
   ]
  },
  {
   "cell_type": "code",
   "execution_count": null,
   "metadata": {},
   "outputs": [],
   "source": [
    "p = figure(tools=\"pan,wheel_zoom,reset,save\",\n",
    "           toolbar_location=\"above\",\n",
    "           title=\"word2vec T-SNE for most common words\")\n",
    "\n",
    "source = ColumnDataSource(data=dict(x1=words_top_wiki_tsne[:,0],\n",
    "                                    x2=words_top_wiki_tsne[:,1],\n",
    "                                    names=words_top_wiki))\n",
    "\n",
    "p.scatter(x=\"x1\", y=\"x2\", size=8, source=source)\n",
    "\n",
    "labels = LabelSet(x=\"x1\", y=\"x2\", text=\"names\", y_offset=6,\n",
    "                  text_font_size=\"8pt\", text_color=\"#555555\",\n",
    "                  source=source, text_align='center')\n",
    "p.add_layout(labels)\n",
    "\n",
    "show(p)"
   ]
  }
 ],
 "metadata": {
  "anaconda-cloud": {},
  "kernelspec": {
   "display_name": "Python 3",
   "language": "python",
   "name": "python3"
  },
  "language_info": {
   "codemirror_mode": {
    "name": "ipython",
    "version": 3
   },
   "file_extension": ".py",
   "mimetype": "text/x-python",
   "name": "python",
   "nbconvert_exporter": "python",
   "pygments_lexer": "ipython3",
   "version": "3.5.2"
  }
 },
 "nbformat": 4,
 "nbformat_minor": 1
}
